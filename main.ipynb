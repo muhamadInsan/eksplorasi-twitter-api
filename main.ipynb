{
 "cells": [
  {
   "cell_type": "code",
   "execution_count": 1,
   "metadata": {},
   "outputs": [],
   "source": [
    "import tweepy as tw\n",
    "\n",
    "api_key = '3l19VHdfAlkELFi47SZnyTE37'\n",
    "api_key_secret = '71klL3xXOV9FUdxMsZyHHVrUzOnAtwdGEGXI9dRIlRyNX2kO8m'\n",
    "bearer_token = 'AAAAAAAAAAAAAAAAAAAAACo%2BgwEAAAAAbDT4BD563MdK6NRrlJQwkL65Bfs%3Da83lwi1WbRIw9crctyJTi1UlhNvlvNUBOONKvCYNbxDH5MY44B'\n",
    "access_token = '265866135-PFOfF8hzzJwha9kV04T6tPyMoVjckTzU3t8Z3W0M'\n",
    "access_token_secret = '12SYe3GQ30pUg9wX1YCWpDHZrKtZCSPM8Sy7ZVfJxp2ea'"
   ]
  },
  {
   "cell_type": "code",
   "execution_count": 2,
   "metadata": {},
   "outputs": [],
   "source": [
    "client = tw.Client(bearer_token=bearer_token)"
   ]
  },
  {
   "cell_type": "code",
   "execution_count": 8,
   "metadata": {},
   "outputs": [],
   "source": [
    "# pull tweets from twitter\n",
    "query = '#elonmusk -is:retweet lang:en'\n",
    "tweets = client.search_recent_tweets(query=query, max_results=10)"
   ]
  },
  {
   "cell_type": "code",
   "execution_count": 10,
   "metadata": {},
   "outputs": [
    {
     "name": "stdout",
     "output_type": "stream",
     "text": [
      "\n",
      "**Tweet Text**\n",
      " There's no other project that #VOLT as much as #VOLTINU #VOLTARMY \n",
      "34 CEX listings, 4 fiat gateway, partnerships &amp; sponsorship,a P2E game in 8 months  #dogecoin @okx\n",
      "@gate_io @FTX_Official @HuobiGlobal @oren_whale #Ethereum #ElonMusk #VOLTICHANGE #shiba #cryptocurrency #BTC https://t.co/Rapf5094M5 https://t.co/YwrtcDVlq6\n",
      "\n",
      "**Tweet Text**\n",
      " There's no other project that #VOLT as much as #VOLTINU #VOLTARMY \n",
      "34 CEX listings, 4 fiat gateway, partnerships &amp; sponsorship,a P2E game in 8 months  #dogecoin @okx\n",
      "@gate_io @FTX_Official @HuobiGlobal @oren_whale #Ethereum #ElonMusk #VOLTICHANGE #shiba #cryptocurrency #BTC https://t.co/PFfMWeb2qU https://t.co/YwrtcDVlq6\n",
      "\n",
      "**Tweet Text**\n",
      " @JakeGagain @YouTube @VoltInuOfficial @gate_io @cryptocom There's no other project that #VOLT as much as #VOLTINU #VOLTARMY \n",
      "34 CEX listings, 4 fiat gateway, partnerships &amp; sponsorship,a P2E game in 8 months  #dogecoin @okx\n",
      "@gate_io @FTX_Official @HuobiGlobal @oren_whale #Ethereum #ElonMusk #VOLTICHANGE #shiba #cryptocurrency #BTC https://t.co/rLRM10HW1L\n",
      "\n",
      "**Tweet Text**\n",
      " @MechazillaTech\n",
      "\n",
      "Looks like Dev @1GoblinRich is speeding up the #Launchpad release. Here's a Teaser  👀\n",
      "\n",
      "#ElonMusk #BSC #BNB #ETH \n",
      "#SpaceX #Mechazilla #CRYPTO \n",
      "#DogeZilla #LAUNCHPAD #UTILITY\n",
      "#BSCGems #CZBinance #BUSD \n",
      "#CMC #CoinGecko #PINKSALE\n",
      "#BinanceSmartChain #LFG 🐂🚀 https://t.co/g0j5sZKm9c\n",
      "\n",
      "**Tweet Text**\n",
      " @twtCommuniity_ The project is very strong and powerful, I am really happy to be in your project and congratulations you can be one of the best projects @amin21367535 @amirhosein16_ @AmirRezaShoghi @Amir_mir6  #nft  #elonmusk  #Giveaways #Airdrop #BSC 0x87D555a8BC0A75d4726448B51FFD87291E40899d\n",
      "\n",
      "**Tweet Text**\n",
      " @twtCommuniity_ The project is very strong and powerful, I am really happy to be in your project and congratulations you can be one of the best projects @amin21367535 @amirhosein16_ @AmirRezaShoghi @Amir_mir6  #nft  #elonmusk  #Giveaways #Airdrop #BSC 0x87D555a8BC0A75d4726448B51FFD87291E40899d\n",
      "\n",
      "**Tweet Text**\n",
      " @WorldCoolgirls The project is very strong and powerful, I am really happy to be in your project and congratulations you can be one of the best projects @amin21367535 @amirhosein16_ @AmirRezaShoghi #binance #nft  #elonmusk  #Giveaways #Airdrop #BSC #ETH 0x16eAA7c58a4BD22f7D7fF0080288907F34B4ca67\n",
      "\n",
      "**Tweet Text**\n",
      " Beeruscat want go to the Mars with Elon Musk.\n",
      "Musk will see BeerusCat\n",
      "$BCAT\n",
      ".\n",
      ".\n",
      ".\n",
      ".\n",
      "#crypto #bitcoin #cryptocurrency #blockchain #ethereum #btc #trading #CZBinance #cryptonews #cryptotrading #bitcoinmining #cryptocurrencies #investing #eth #investment #bitcoinnews #nft #elonmusk https://t.co/KFDPg9F0Cd\n",
      "\n",
      "**Tweet Text**\n",
      " @dubaisheikhs @NUWD_NFT @club_chameleons The project is very strong and powerful, I am really happy to be in your project and congratulations you can be one of the best projects @amin21367535 @amirhosein16_ @AmirRezaShoghi #binance #nft  #elonmusk  #Giveaways #Airdrop #BSC #ETH 0x16eAA7c58a4BD22f7D7fF0080288907F34B4ca67\n",
      "\n",
      "**Tweet Text**\n",
      " @Clement7070 @IceCreamGreezer The project is very strong and powerful, I am really happy to be in your project and congratulations you can be one of the best projects @amin21367535 @amirhosein16_ @AmirRezaShoghi #binance #nft  #elonmusk  #Giveaways #Airdrop #BSC #ETH 0x16eAA7c58a4BD22f7D7fF0080288907F34B4ca67\n"
     ]
    }
   ],
   "source": [
    "for tweet in tweets.data:\n",
    "    print('\\n**Tweet Text**\\n', tweet.text)"
   ]
  },
  {
   "cell_type": "code",
   "execution_count": null,
   "metadata": {},
   "outputs": [],
   "source": []
  }
 ],
 "metadata": {
  "kernelspec": {
   "display_name": "Python 3.10.0a1 ('env-tw': venv)",
   "language": "python",
   "name": "python3"
  },
  "language_info": {
   "codemirror_mode": {
    "name": "ipython",
    "version": 3
   },
   "file_extension": ".py",
   "mimetype": "text/x-python",
   "name": "python",
   "nbconvert_exporter": "python",
   "pygments_lexer": "ipython3",
   "version": "3.9.0"
  },
  "orig_nbformat": 4,
  "vscode": {
   "interpreter": {
    "hash": "516761f7698b391e827212565d734f46e5da30723beebfb97f082a315f6595ab"
   }
  }
 },
 "nbformat": 4,
 "nbformat_minor": 2
}
